{
 "cells": [
  {
   "cell_type": "markdown",
   "metadata": {},
   "source": [
    "# Python 101 for MVPs \n",
    "Hello everyone. *Welcome to the Python tour at the Excel MVP Virtual summit*. \n",
    "\n"
   ]
  },
  {
   "cell_type": "code",
   "execution_count": 1,
   "metadata": {},
   "outputs": [
    {
     "name": "stdout",
     "output_type": "stream",
     "text": [
      "hello world\n"
     ]
    }
   ],
   "source": [
    "#hello world\n",
    "print(\"hello world\")\n"
   ]
  },
  {
   "cell_type": "code",
   "execution_count": 3,
   "metadata": {},
   "outputs": [
    {
     "data": {
      "text/plain": [
       "'Hello, everyone!'"
      ]
     },
     "execution_count": 3,
     "metadata": {},
     "output_type": "execute_result"
    }
   ],
   "source": [
    "#create a function with input and call it\n",
    "def say_hello(recipient):\n",
    "    s = 'Hello, {}!'.format(recipient)\n",
    "    return s\n",
    "\n",
    "#call the function\n",
    "say_hello('everyone')\n"
   ]
  },
  {
   "cell_type": "code",
   "execution_count": 4,
   "metadata": {},
   "outputs": [
    {
     "name": "stdout",
     "output_type": "stream",
     "text": [
      "We're on time 0\n",
      "We're on time 1\n",
      "We're on time 2\n"
     ]
    }
   ],
   "source": [
    "#loops\n",
    "for x in range(0, 3):\n",
    "    print(\"We're on time %d\" % (x))"
   ]
  },
  {
   "cell_type": "markdown",
   "metadata": {},
   "source": [
    "# Data wrangling with Pandas\n",
    "\n",
    "[Pandas](https://pandas.org) is a open source, fast and powerful library at handling data. It is used by almost everyone when working with data. Pandas lets you work with data across a variety of artifacts. At core is a datastructre called the data frame, which looks like a grid\n",
    "\n",
    "![Pandas](https://pandas.pydata.org/docs/_images/01_table_dataframe1.svg)"
   ]
  },
  {
   "cell_type": "code",
   "execution_count": 7,
   "metadata": {},
   "outputs": [
    {
     "data": {
      "text/html": [
       "<div>\n",
       "<style scoped>\n",
       "    .dataframe tbody tr th:only-of-type {\n",
       "        vertical-align: middle;\n",
       "    }\n",
       "\n",
       "    .dataframe tbody tr th {\n",
       "        vertical-align: top;\n",
       "    }\n",
       "\n",
       "    .dataframe thead th {\n",
       "        text-align: right;\n",
       "    }\n",
       "</style>\n",
       "<table border=\"1\" class=\"dataframe\">\n",
       "  <thead>\n",
       "    <tr style=\"text-align: right;\">\n",
       "      <th></th>\n",
       "      <th>Name</th>\n",
       "      <th>Age</th>\n",
       "      <th>Sex</th>\n",
       "    </tr>\n",
       "  </thead>\n",
       "  <tbody>\n",
       "    <tr>\n",
       "      <th>0</th>\n",
       "      <td>Braund, Mr. Owen Harris</td>\n",
       "      <td>22</td>\n",
       "      <td>male</td>\n",
       "    </tr>\n",
       "    <tr>\n",
       "      <th>1</th>\n",
       "      <td>Allen, Mr. William Henry</td>\n",
       "      <td>35</td>\n",
       "      <td>male</td>\n",
       "    </tr>\n",
       "    <tr>\n",
       "      <th>2</th>\n",
       "      <td>Bonnell, Miss. Elizabeth</td>\n",
       "      <td>58</td>\n",
       "      <td>female</td>\n",
       "    </tr>\n",
       "  </tbody>\n",
       "</table>\n",
       "</div>"
      ],
      "text/plain": [
       "                       Name  Age     Sex\n",
       "0   Braund, Mr. Owen Harris   22    male\n",
       "1  Allen, Mr. William Henry   35    male\n",
       "2  Bonnell, Miss. Elizabeth   58  female"
      ]
     },
     "execution_count": 7,
     "metadata": {},
     "output_type": "execute_result"
    }
   ],
   "source": [
    "import pandas as pd\n",
    "\n",
    "#pandas - simple example but imagine you're dealing with large data sets\n",
    "df = pd.DataFrame({\n",
    "        \"Name\": [\"Braund, Mr. Owen Harris\",\n",
    "                 \"Allen, Mr. William Henry\",\n",
    "                 \"Bonnell, Miss. Elizabeth\"],\n",
    "        \"Age\": [22, 35, 58],\n",
    "        \"Sex\": [\"male\", \"male\", \"female\"]}\n",
    "   )\n",
    "\n",
    "df.head()"
   ]
  },
  {
   "cell_type": "code",
   "execution_count": 9,
   "metadata": {},
   "outputs": [
    {
     "data": {
      "text/html": [
       "<div>\n",
       "<style scoped>\n",
       "    .dataframe tbody tr th:only-of-type {\n",
       "        vertical-align: middle;\n",
       "    }\n",
       "\n",
       "    .dataframe tbody tr th {\n",
       "        vertical-align: top;\n",
       "    }\n",
       "\n",
       "    .dataframe thead th {\n",
       "        text-align: right;\n",
       "    }\n",
       "</style>\n",
       "<table border=\"1\" class=\"dataframe\">\n",
       "  <thead>\n",
       "    <tr style=\"text-align: right;\">\n",
       "      <th></th>\n",
       "      <th>account</th>\n",
       "      <th>Product</th>\n",
       "      <th>Sold</th>\n",
       "      <th>Month</th>\n",
       "    </tr>\n",
       "  </thead>\n",
       "  <tbody>\n",
       "    <tr>\n",
       "      <th>0</th>\n",
       "      <td>Contoso</td>\n",
       "      <td>Apples</td>\n",
       "      <td>83641</td>\n",
       "      <td>July</td>\n",
       "    </tr>\n",
       "    <tr>\n",
       "      <th>1</th>\n",
       "      <td>Contoso</td>\n",
       "      <td>Oranges</td>\n",
       "      <td>42351</td>\n",
       "      <td>July</td>\n",
       "    </tr>\n",
       "    <tr>\n",
       "      <th>2</th>\n",
       "      <td>Contoso</td>\n",
       "      <td>Bananas</td>\n",
       "      <td>97350</td>\n",
       "      <td>July</td>\n",
       "    </tr>\n",
       "    <tr>\n",
       "      <th>3</th>\n",
       "      <td>Contoso</td>\n",
       "      <td>Grapes</td>\n",
       "      <td>47651</td>\n",
       "      <td>July</td>\n",
       "    </tr>\n",
       "    <tr>\n",
       "      <th>4</th>\n",
       "      <td>Contoso</td>\n",
       "      <td>Apples</td>\n",
       "      <td>82935</td>\n",
       "      <td>August</td>\n",
       "    </tr>\n",
       "    <tr>\n",
       "      <th>5</th>\n",
       "      <td>Contoso</td>\n",
       "      <td>Oranges</td>\n",
       "      <td>33621</td>\n",
       "      <td>August</td>\n",
       "    </tr>\n",
       "    <tr>\n",
       "      <th>6</th>\n",
       "      <td>Contoso</td>\n",
       "      <td>Bananas</td>\n",
       "      <td>91100</td>\n",
       "      <td>August</td>\n",
       "    </tr>\n",
       "    <tr>\n",
       "      <th>7</th>\n",
       "      <td>Contoso</td>\n",
       "      <td>Grapes</td>\n",
       "      <td>96482</td>\n",
       "      <td>August</td>\n",
       "    </tr>\n",
       "    <tr>\n",
       "      <th>8</th>\n",
       "      <td>Contoso</td>\n",
       "      <td>Apples</td>\n",
       "      <td>40039</td>\n",
       "      <td>September</td>\n",
       "    </tr>\n",
       "    <tr>\n",
       "      <th>9</th>\n",
       "      <td>Contoso</td>\n",
       "      <td>Oranges</td>\n",
       "      <td>2224</td>\n",
       "      <td>September</td>\n",
       "    </tr>\n",
       "  </tbody>\n",
       "</table>\n",
       "</div>"
      ],
      "text/plain": [
       "   account  Product   Sold      Month\n",
       "0  Contoso   Apples  83641       July\n",
       "1  Contoso  Oranges  42351       July\n",
       "2  Contoso  Bananas  97350       July\n",
       "3  Contoso   Grapes  47651       July\n",
       "4  Contoso   Apples  82935     August\n",
       "5  Contoso  Oranges  33621     August\n",
       "6  Contoso  Bananas  91100     August\n",
       "7  Contoso   Grapes  96482     August\n",
       "8  Contoso   Apples  40039  September\n",
       "9  Contoso  Oranges   2224  September"
      ]
     },
     "execution_count": 9,
     "metadata": {},
     "output_type": "execute_result"
    }
   ],
   "source": [
    "#get contoso sales from 2018, Q3\n",
    "df = pd.read_excel(\"ContosoFruitSales2018.xlsx\", sheet_name=\"Q3\")\n",
    "\n",
    "#return top 10 results\n",
    "df.head(10)\n"
   ]
  },
  {
   "cell_type": "code",
   "execution_count": 11,
   "metadata": {},
   "outputs": [
    {
     "data": {
      "text/html": [
       "<div>\n",
       "<style scoped>\n",
       "    .dataframe tbody tr th:only-of-type {\n",
       "        vertical-align: middle;\n",
       "    }\n",
       "\n",
       "    .dataframe tbody tr th {\n",
       "        vertical-align: top;\n",
       "    }\n",
       "\n",
       "    .dataframe thead th {\n",
       "        text-align: right;\n",
       "    }\n",
       "</style>\n",
       "<table border=\"1\" class=\"dataframe\">\n",
       "  <thead>\n",
       "    <tr style=\"text-align: right;\">\n",
       "      <th></th>\n",
       "      <th>account</th>\n",
       "      <th>Product</th>\n",
       "      <th>Sold</th>\n",
       "      <th>Month</th>\n",
       "    </tr>\n",
       "  </thead>\n",
       "  <tbody>\n",
       "    <tr>\n",
       "      <th>0</th>\n",
       "      <td>Contoso</td>\n",
       "      <td>Apples</td>\n",
       "      <td>71865</td>\n",
       "      <td>January</td>\n",
       "    </tr>\n",
       "    <tr>\n",
       "      <th>1</th>\n",
       "      <td>Contoso</td>\n",
       "      <td>Oranges</td>\n",
       "      <td>92297</td>\n",
       "      <td>January</td>\n",
       "    </tr>\n",
       "    <tr>\n",
       "      <th>2</th>\n",
       "      <td>Contoso</td>\n",
       "      <td>Bananas</td>\n",
       "      <td>23616</td>\n",
       "      <td>January</td>\n",
       "    </tr>\n",
       "    <tr>\n",
       "      <th>3</th>\n",
       "      <td>Contoso</td>\n",
       "      <td>Grapes</td>\n",
       "      <td>15358</td>\n",
       "      <td>January</td>\n",
       "    </tr>\n",
       "    <tr>\n",
       "      <th>4</th>\n",
       "      <td>Contoso</td>\n",
       "      <td>Apples</td>\n",
       "      <td>24189</td>\n",
       "      <td>February</td>\n",
       "    </tr>\n",
       "    <tr>\n",
       "      <th>5</th>\n",
       "      <td>Contoso</td>\n",
       "      <td>Oranges</td>\n",
       "      <td>63779</td>\n",
       "      <td>February</td>\n",
       "    </tr>\n",
       "    <tr>\n",
       "      <th>6</th>\n",
       "      <td>Contoso</td>\n",
       "      <td>Bananas</td>\n",
       "      <td>69531</td>\n",
       "      <td>February</td>\n",
       "    </tr>\n",
       "    <tr>\n",
       "      <th>7</th>\n",
       "      <td>Contoso</td>\n",
       "      <td>Grapes</td>\n",
       "      <td>35509</td>\n",
       "      <td>February</td>\n",
       "    </tr>\n",
       "    <tr>\n",
       "      <th>8</th>\n",
       "      <td>Contoso</td>\n",
       "      <td>Apples</td>\n",
       "      <td>76239</td>\n",
       "      <td>March</td>\n",
       "    </tr>\n",
       "    <tr>\n",
       "      <th>9</th>\n",
       "      <td>Contoso</td>\n",
       "      <td>Oranges</td>\n",
       "      <td>72733</td>\n",
       "      <td>March</td>\n",
       "    </tr>\n",
       "    <tr>\n",
       "      <th>10</th>\n",
       "      <td>Contoso</td>\n",
       "      <td>Bananas</td>\n",
       "      <td>81046</td>\n",
       "      <td>March</td>\n",
       "    </tr>\n",
       "    <tr>\n",
       "      <th>11</th>\n",
       "      <td>Contoso</td>\n",
       "      <td>Grapes</td>\n",
       "      <td>78507</td>\n",
       "      <td>March</td>\n",
       "    </tr>\n",
       "    <tr>\n",
       "      <th>12</th>\n",
       "      <td>Contoso</td>\n",
       "      <td>Apples</td>\n",
       "      <td>88487</td>\n",
       "      <td>April</td>\n",
       "    </tr>\n",
       "    <tr>\n",
       "      <th>13</th>\n",
       "      <td>Contoso</td>\n",
       "      <td>Oranges</td>\n",
       "      <td>21380</td>\n",
       "      <td>April</td>\n",
       "    </tr>\n",
       "    <tr>\n",
       "      <th>14</th>\n",
       "      <td>Contoso</td>\n",
       "      <td>Bananas</td>\n",
       "      <td>89342</td>\n",
       "      <td>April</td>\n",
       "    </tr>\n",
       "  </tbody>\n",
       "</table>\n",
       "</div>"
      ],
      "text/plain": [
       "    account  Product   Sold     Month\n",
       "0   Contoso   Apples  71865   January\n",
       "1   Contoso  Oranges  92297   January\n",
       "2   Contoso  Bananas  23616   January\n",
       "3   Contoso   Grapes  15358   January\n",
       "4   Contoso   Apples  24189  February\n",
       "5   Contoso  Oranges  63779  February\n",
       "6   Contoso  Bananas  69531  February\n",
       "7   Contoso   Grapes  35509  February\n",
       "8   Contoso   Apples  76239     March\n",
       "9   Contoso  Oranges  72733     March\n",
       "10  Contoso  Bananas  81046     March\n",
       "11  Contoso   Grapes  78507     March\n",
       "12  Contoso   Apples  88487     April\n",
       "13  Contoso  Oranges  21380     April\n",
       "14  Contoso  Bananas  89342     April"
      ]
     },
     "execution_count": 11,
     "metadata": {},
     "output_type": "execute_result"
    }
   ],
   "source": [
    "#read excel file and combine all sheets into one frame\n",
    "df19 = pd.concat(pd.read_excel(\"ContosoFruitSales2019.xlsx\", sheet_name=None), ignore_index=True)\n",
    "\n",
    "#Get top 10\n",
    "df19.head(15)"
   ]
  },
  {
   "cell_type": "code",
   "execution_count": null,
   "metadata": {},
   "outputs": [],
   "source": [
    "#Get Contoso Sales for past 4 years\n",
    "all_data = pd.DataFrame()\n",
    "years = [\"2016\", \"2017\", \"2018\", \"2019\"]\n",
    "\n",
    "for year in years:\n",
    "    #get sales by year\n",
    "    df = pd.concat(pd.read_excel(\"ContosoFruitSales\" + year + \".xlsx\", sheet_name=None), ignore_index=True)\n",
    "    #append the year sales to master data frame\n",
    "    all_data = all_data.append(df,ignore_index=True)\n",
    "\n",
    "    \n",
    "all_data.describe()"
   ]
  },
  {
   "cell_type": "markdown",
   "metadata": {},
   "source": [
    "# Data Visualizations\n",
    "You can use libraries to create custom data visualizations. Here we'll use a couple of popular libraries - matplotlib for basic charting and seaborn"
   ]
  },
  {
   "cell_type": "code",
   "execution_count": null,
   "metadata": {},
   "outputs": [],
   "source": [
    "#import the libraries. Note: you many need to \"pip install <library name>\"\n",
    "import pandas as pd\n",
    "%matplotlib inline  \n",
    "import random\n",
    "import matplotlib.pyplot as plt\n",
    "import seaborn as sns"
   ]
  },
  {
   "cell_type": "code",
   "execution_count": null,
   "metadata": {},
   "outputs": [],
   "source": [
    "#create a dataframe with random numbers\n",
    "df = pd.DataFrame()\n",
    "df['x'] = random.sample(range(1, 100), 25)\n",
    "df['y'] = random.sample(range(1, 100), 25)\n",
    "df.head()"
   ]
  },
  {
   "cell_type": "code",
   "execution_count": null,
   "metadata": {},
   "outputs": [],
   "source": [
    "#create x-y scatter\n",
    "sns.lmplot('x', 'y', data=df, fit_reg=False)"
   ]
  },
  {
   "cell_type": "code",
   "execution_count": null,
   "metadata": {},
   "outputs": [],
   "source": [
    "#create heatmap\n",
    "sns.heatmap([df.y, df.x], annot=True, fmt=\"d\")"
   ]
  },
  {
   "cell_type": "markdown",
   "metadata": {},
   "source": [
    "# Analysis/ML in Python\n",
    "\n",
    "Python has an awesome set of data science libraries. Some popular ones are numpy, scikit-learn, tensorflow, pytorch for data processing and machine learning.\n",
    "\n",
    "Let's use one called Stocker. Stocker is a open source python tool that uses ANN (Artificial Nueral Network) to predict the stock's close price for the next business day: https://github.com/jcamiloangarita/stocker."
   ]
  },
  {
   "cell_type": "code",
   "execution_count": null,
   "metadata": {},
   "outputs": [],
   "source": [
    "import stocker\n",
    "\n",
    "def predict(stock):\n",
    "    return stocker.predict.tomorrow(stock)\n",
    "\n",
    "\n",
    "#imagine a UDF function in Excel\n",
    "predict(\"MSFT\")"
   ]
  }
 ],
 "metadata": {
  "kernelspec": {
   "display_name": "Python 3",
   "language": "python",
   "name": "python3"
  },
  "language_info": {
   "codemirror_mode": {
    "name": "ipython",
    "version": 3
   },
   "file_extension": ".py",
   "mimetype": "text/x-python",
   "name": "python",
   "nbconvert_exporter": "python",
   "pygments_lexer": "ipython3",
   "version": "3.7.4"
  }
 },
 "nbformat": 4,
 "nbformat_minor": 2
}
